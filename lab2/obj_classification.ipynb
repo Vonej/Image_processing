{
 "cells": [
  {
   "cell_type": "code",
   "execution_count": 438,
   "outputs": [],
   "source": [
    "import matplotlib.pylab as pylab\n",
    "params = {'legend.fontsize': 'large',\n",
    "          'figure.figsize': (12, 8),\n",
    "          'figure.titlesize': 'x-large',\n",
    "          'axes.labelsize': 'x-large',\n",
    "          'axes.titlesize':'x-large',\n",
    "          'xtick.labelsize':'x-large',\n",
    "          'ytick.labelsize':'x-large',\n",
    "          'lines.markersize': 12\n",
    "          }\n",
    "pylab.rcParams.update(params)"
   ],
   "metadata": {
    "collapsed": false,
    "pycharm": {
     "name": "#%%\n"
    }
   }
  },
  {
   "cell_type": "code",
   "execution_count": 265,
   "outputs": [
    {
     "data": {
      "text/plain": "                  I         II        III         IV          V         VI\nПриклади                                                                  \n1         0.05,0.91  0.49,0.89  0.62,0.83   0.55,0.4  0.31,0.43  0.05,0.15\n2         0.14,0.96  0.34,0.81  0.79,0.92  0.66,0.32  0.45,0.27  0.09,0.39\n3          0.16,0.9  0.36,0.67  0.71,0.92  0.74,0.49  0.33,0.16  0.13,0.51\n4          0.07,0.7  0.47,0.49  0.78,0.83   0.89,0.3  0.56,0.29  0.25,0.34\n5          0.2,0.63  0.52,0.53  0.87,0.92   0.77,0.2  0.54,0.13  0.15,0.36",
      "text/html": "<div>\n<style scoped>\n    .dataframe tbody tr th:only-of-type {\n        vertical-align: middle;\n    }\n\n    .dataframe tbody tr th {\n        vertical-align: top;\n    }\n\n    .dataframe thead th {\n        text-align: right;\n    }\n</style>\n<table border=\"1\" class=\"dataframe\">\n  <thead>\n    <tr style=\"text-align: right;\">\n      <th></th>\n      <th>I</th>\n      <th>II</th>\n      <th>III</th>\n      <th>IV</th>\n      <th>V</th>\n      <th>VI</th>\n    </tr>\n    <tr>\n      <th>Приклади</th>\n      <th></th>\n      <th></th>\n      <th></th>\n      <th></th>\n      <th></th>\n      <th></th>\n    </tr>\n  </thead>\n  <tbody>\n    <tr>\n      <th>1</th>\n      <td>0.05,0.91</td>\n      <td>0.49,0.89</td>\n      <td>0.62,0.83</td>\n      <td>0.55,0.4</td>\n      <td>0.31,0.43</td>\n      <td>0.05,0.15</td>\n    </tr>\n    <tr>\n      <th>2</th>\n      <td>0.14,0.96</td>\n      <td>0.34,0.81</td>\n      <td>0.79,0.92</td>\n      <td>0.66,0.32</td>\n      <td>0.45,0.27</td>\n      <td>0.09,0.39</td>\n    </tr>\n    <tr>\n      <th>3</th>\n      <td>0.16,0.9</td>\n      <td>0.36,0.67</td>\n      <td>0.71,0.92</td>\n      <td>0.74,0.49</td>\n      <td>0.33,0.16</td>\n      <td>0.13,0.51</td>\n    </tr>\n    <tr>\n      <th>4</th>\n      <td>0.07,0.7</td>\n      <td>0.47,0.49</td>\n      <td>0.78,0.83</td>\n      <td>0.89,0.3</td>\n      <td>0.56,0.29</td>\n      <td>0.25,0.34</td>\n    </tr>\n    <tr>\n      <th>5</th>\n      <td>0.2,0.63</td>\n      <td>0.52,0.53</td>\n      <td>0.87,0.92</td>\n      <td>0.77,0.2</td>\n      <td>0.54,0.13</td>\n      <td>0.15,0.36</td>\n    </tr>\n  </tbody>\n</table>\n</div>"
     },
     "execution_count": 265,
     "metadata": {},
     "output_type": "execute_result"
    }
   ],
   "source": [
    "import pandas as pd\n",
    "import numpy as np\n",
    "\n",
    "df_column = pd.read_excel('data/dataset.xlsx').columns[1:]\n",
    "column_list = []\n",
    "for i in df_column:\n",
    "    column_list.append(i)\n",
    "\n",
    "df = pd.read_excel('data/dataset.xlsx',index_col=0)\n",
    "df"
   ],
   "metadata": {
    "collapsed": false,
    "pycharm": {
     "name": "#%%\n"
    }
   }
  },
  {
   "cell_type": "code",
   "execution_count": 266,
   "outputs": [
    {
     "data": {
      "text/plain": "                     I            II           III            IV  \\\nПриклади                                                           \n1         [0.05, 0.91]  [0.49, 0.89]  [0.62, 0.83]   [0.55, 0.4]   \n2         [0.14, 0.96]  [0.34, 0.81]  [0.79, 0.92]  [0.66, 0.32]   \n3          [0.16, 0.9]  [0.36, 0.67]  [0.71, 0.92]  [0.74, 0.49]   \n4          [0.07, 0.7]  [0.47, 0.49]  [0.78, 0.83]   [0.89, 0.3]   \n5          [0.2, 0.63]  [0.52, 0.53]  [0.87, 0.92]   [0.77, 0.2]   \n\n                     V            VI  \nПриклади                              \n1         [0.31, 0.43]  [0.05, 0.15]  \n2         [0.45, 0.27]  [0.09, 0.39]  \n3         [0.33, 0.16]  [0.13, 0.51]  \n4         [0.56, 0.29]  [0.25, 0.34]  \n5         [0.54, 0.13]  [0.15, 0.36]  ",
      "text/html": "<div>\n<style scoped>\n    .dataframe tbody tr th:only-of-type {\n        vertical-align: middle;\n    }\n\n    .dataframe tbody tr th {\n        vertical-align: top;\n    }\n\n    .dataframe thead th {\n        text-align: right;\n    }\n</style>\n<table border=\"1\" class=\"dataframe\">\n  <thead>\n    <tr style=\"text-align: right;\">\n      <th></th>\n      <th>I</th>\n      <th>II</th>\n      <th>III</th>\n      <th>IV</th>\n      <th>V</th>\n      <th>VI</th>\n    </tr>\n    <tr>\n      <th>Приклади</th>\n      <th></th>\n      <th></th>\n      <th></th>\n      <th></th>\n      <th></th>\n      <th></th>\n    </tr>\n  </thead>\n  <tbody>\n    <tr>\n      <th>1</th>\n      <td>[0.05, 0.91]</td>\n      <td>[0.49, 0.89]</td>\n      <td>[0.62, 0.83]</td>\n      <td>[0.55, 0.4]</td>\n      <td>[0.31, 0.43]</td>\n      <td>[0.05, 0.15]</td>\n    </tr>\n    <tr>\n      <th>2</th>\n      <td>[0.14, 0.96]</td>\n      <td>[0.34, 0.81]</td>\n      <td>[0.79, 0.92]</td>\n      <td>[0.66, 0.32]</td>\n      <td>[0.45, 0.27]</td>\n      <td>[0.09, 0.39]</td>\n    </tr>\n    <tr>\n      <th>3</th>\n      <td>[0.16, 0.9]</td>\n      <td>[0.36, 0.67]</td>\n      <td>[0.71, 0.92]</td>\n      <td>[0.74, 0.49]</td>\n      <td>[0.33, 0.16]</td>\n      <td>[0.13, 0.51]</td>\n    </tr>\n    <tr>\n      <th>4</th>\n      <td>[0.07, 0.7]</td>\n      <td>[0.47, 0.49]</td>\n      <td>[0.78, 0.83]</td>\n      <td>[0.89, 0.3]</td>\n      <td>[0.56, 0.29]</td>\n      <td>[0.25, 0.34]</td>\n    </tr>\n    <tr>\n      <th>5</th>\n      <td>[0.2, 0.63]</td>\n      <td>[0.52, 0.53]</td>\n      <td>[0.87, 0.92]</td>\n      <td>[0.77, 0.2]</td>\n      <td>[0.54, 0.13]</td>\n      <td>[0.15, 0.36]</td>\n    </tr>\n  </tbody>\n</table>\n</div>"
     },
     "execution_count": 266,
     "metadata": {},
     "output_type": "execute_result"
    }
   ],
   "source": [
    "for col in column_list:\n",
    "    df[col]=[(list(map(float,vec.split(',')))) for vec in df[col]]\n",
    "    df[col] = df[col].apply(lambda x: np.array(x))\n",
    "df"
   ],
   "metadata": {
    "collapsed": false,
    "pycharm": {
     "name": "#%%\n"
    }
   }
  },
  {
   "cell_type": "markdown",
   "source": [
    "df['I'] = df['I'].apply(lambda x: np.array(x))\n",
    "arr = df['I']\n",
    "for cls in column_list:\n",
    "    x = [vec[0] for vec in df[cls]]\n",
    "    y = [vec[1] for vec in df[cls]]\n",
    "    print(x, y)"
   ],
   "metadata": {
    "collapsed": false
   }
  },
  {
   "cell_type": "code",
   "execution_count": 470,
   "outputs": [
    {
     "name": "stdout",
     "output_type": "stream",
     "text": [
      "[array([0.05, 0.91]) array([0.14, 0.96]) array([0.16, 0.9 ])\n",
      " array([0.07, 0.7 ]) array([0.2 , 0.63])]\n",
      "cls:I\tclr:r\tmrk:o\n",
      "cls:IV\tclr:g\tmrk:^\n",
      "cls:VI\tclr:b\tmrk:s\n"
     ]
    },
    {
     "data": {
      "text/plain": "<matplotlib.legend.Legend at 0x1e1ff99fd60>"
     },
     "execution_count": 470,
     "metadata": {},
     "output_type": "execute_result"
    },
    {
     "data": {
      "text/plain": "<Figure size 864x576 with 1 Axes>",
      "image/png": "[encoded data removed]"
     },
     "metadata": {
      "needs_background": "light"
     },
     "output_type": "display_data"
    }
   ],
   "source": [
    "import matplotlib.pyplot as plt\n",
    "\n",
    "classes = ['I','IV','VI']\n",
    "sub_df = df[classes]\n",
    "\n",
    "colors = ['r','g','b']\n",
    "markers = ['o','^','s']\n",
    "print(np.array(sub_df['I']))\n",
    "for cls, clr, mrk in zip(classes, colors, markers):\n",
    "    print(f'cls:{cls}\\tclr:{clr}\\tmrk:{mrk}',)\n",
    "\n",
    "fig, ax=plt.subplots()\n",
    "for cls, clr, mrk in zip(classes, colors, markers):\n",
    "    x = [vec[0] for vec in df[cls]]\n",
    "    y = [vec[1] for vec in df[cls]]\n",
    "    ax.scatter(x,y,c=clr,marker=mrk,label=f'class: {cls}')\n",
    "ax.grid('on')\n",
    "ax.legend()"
   ],
   "metadata": {
    "collapsed": false,
    "pycharm": {
     "name": "#%%\n"
    }
   }
  },
  {
   "cell_type": "code",
   "execution_count": 469,
   "outputs": [
    {
     "name": "stdout",
     "output_type": "stream",
     "text": [
      "Матриця відстаней від об`єкта [0.35 0.4 ] до прикладів класів ['I', 'IV', 'VI']\n"
     ]
    },
    {
     "data": {
      "text/plain": "                 I        IV        VI\nПриклади                              \n1         0.212430  0.024799  0.077806\n2         0.160274  0.079139  0.118625\n3         0.143781  0.035457  0.108089\n4         0.185635  0.135604  0.003594\n5         0.083451  0.173448  0.052043",
      "text/html": "<div>\n<style scoped>\n    .dataframe tbody tr th:only-of-type {\n        vertical-align: middle;\n    }\n\n    .dataframe tbody tr th {\n        vertical-align: top;\n    }\n\n    .dataframe thead th {\n        text-align: right;\n    }\n</style>\n<table border=\"1\" class=\"dataframe\">\n  <thead>\n    <tr style=\"text-align: right;\">\n      <th></th>\n      <th>I</th>\n      <th>IV</th>\n      <th>VI</th>\n    </tr>\n    <tr>\n      <th>Приклади</th>\n      <th></th>\n      <th></th>\n      <th></th>\n    </tr>\n  </thead>\n  <tbody>\n    <tr>\n      <th>1</th>\n      <td>0.212430</td>\n      <td>0.024799</td>\n      <td>0.077806</td>\n    </tr>\n    <tr>\n      <th>2</th>\n      <td>0.160274</td>\n      <td>0.079139</td>\n      <td>0.118625</td>\n    </tr>\n    <tr>\n      <th>3</th>\n      <td>0.143781</td>\n      <td>0.035457</td>\n      <td>0.108089</td>\n    </tr>\n    <tr>\n      <th>4</th>\n      <td>0.185635</td>\n      <td>0.135604</td>\n      <td>0.003594</td>\n    </tr>\n    <tr>\n      <th>5</th>\n      <td>0.083451</td>\n      <td>0.173448</td>\n      <td>0.052043</td>\n    </tr>\n  </tbody>\n</table>\n</div>"
     },
     "execution_count": 469,
     "metadata": {},
     "output_type": "execute_result"
    }
   ],
   "source": [
    "from scipy.spatial.distance import cdist\n",
    "\n",
    "x = float(input('Enter an x: '))\n",
    "y = float(input('Enter an y: '))\n",
    "v = np.array([[x,y]])\n",
    "\n",
    "classes = ['I','IV','VI']\n",
    "dist_df = pd.DataFrame(columns=classes)\n",
    "\n",
    "for col in classes:\n",
    "    x_vec = [vec[0] for vec in df[col]]\n",
    "    y_vec = [vec[1] for vec in df[col]]\n",
    "\n",
    "    D = []\n",
    "    for x, y in zip(x_vec, y_vec):\n",
    "        D.append([x,y])\n",
    "    D = np.array(D)\n",
    "    distances = cdist(D,v,metric='cosine')\n",
    "    dist_lst = [dist[0] for dist in distances]\n",
    "    dist_df[col] = dist_lst\n",
    "\n",
    "dist_df = dist_df.set_index(df.index)\n",
    "print(f'Матриця відстаней від об`єкта {v[0]} '\n",
    "      f'до прикладів класів {classes}')\n",
    "dist_df"
   ],
   "metadata": {
    "collapsed": false,
    "pycharm": {
     "name": "#%%\n"
    }
   }
  },
  {
   "cell_type": "code",
   "execution_count": 471,
   "outputs": [
    {
     "name": "stdout",
     "output_type": "stream",
     "text": [
      "Пара відповідний клас та мінімальна відстань ['VI', 0.0035939825162943917]\n"
     ]
    },
    {
     "data": {
      "text/plain": "<Figure size 864x576 with 1 Axes>",
      "image/png": "[encoded data removed]"
     },
     "execution_count": 471,
     "metadata": {},
     "output_type": "execute_result"
    }
   ],
   "source": [
    "min_dist = [dist_df.min().idxmin(),dist_df.min().min()]\n",
    "print(f'Пара відповідний клас та мінімальна відстань {min_dist}')\n",
    "min_class = min_dist[0]\n",
    "\n",
    "classes = ['I','IV','VI']\n",
    "colors = ['r','g','b']\n",
    "markers = ['o','^','s']\n",
    "\n",
    "cl_obj = v[0]\n",
    "\n",
    "triplets = zip(classes,colors,markers)\n",
    "\n",
    "new_obj_params = list(filter(lambda x:min_class in x, triplets))\n",
    "\n",
    "\n",
    "for cls, clr, mrk in new_obj_params:\n",
    "    ax.scatter(cl_obj[0],cl_obj[1],c=clr,marker=mrk,label=f'class: {cls}')\n",
    "fig"
   ],
   "metadata": {
    "collapsed": false,
    "pycharm": {
     "name": "#%%\n"
    }
   }
  },
  {
   "cell_type": "code",
   "execution_count": 480,
   "outputs": [
    {
     "name": "stdout",
     "output_type": "stream",
     "text": [
      "[0.81, 0.7699999999999999, 0.69, 0.5799999999999998, 0.37999999999999995]\n",
      "[0.20000000000000007, 0.39000000000000007, 0.48, 0.6400000000000001, 0.6200000000000001]\n",
      "[0.55, 0.27, 0.32999999999999996, 0.15999999999999998, 0.24000000000000002]\n"
     ]
    }
   ],
   "source": [
    "from scipy.spatial.distance import pdist\n",
    "\n",
    "for col in classes:\n",
    "    x_vec = [vec[0] for vec in df[col]]\n",
    "    y_vec = [vec[1] for vec in df[col]]\n",
    "\n",
    "    D = []\n",
    "    for x, y in zip(x_vec, y_vec):\n",
    "        D.append([x,y])\n",
    "    D = np.array(D)\n",
    "    distances = cdist(D,v,metric='cityblock')\n",
    "    dist_lst = [dist[0] for dist in distances]\n",
    "    print(dist_lst)\n"
   ],
   "metadata": {
    "collapsed": false,
    "pycharm": {
     "name": "#%%\n"
    }
   }
  }
 ],
 "metadata": {
  "kernelspec": {
   "display_name": "Python 3",
   "language": "python",
   "name": "python3"
  },
  "language_info": {
   "codemirror_mode": {
    "name": "ipython",
    "version": 2
   },
   "file_extension": ".py",
   "mimetype": "text/x-python",
   "name": "python",
   "nbconvert_exporter": "python",
   "pygments_lexer": "ipython2",
   "version": "2.7.6"
  }
 },
 "nbformat": 4,
 "nbformat_minor": 0
}