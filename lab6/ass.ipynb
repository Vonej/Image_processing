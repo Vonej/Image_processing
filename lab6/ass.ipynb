{
 "cells": [
  {
   "cell_type": "code",
   "execution_count": 2,
   "metadata": {
    "collapsed": true
   },
   "outputs": [],
   "source": [
    "import pandas as pd\n",
    "df = pd.read_csv('HistoricalPrices.csv',encoding='latin-1',low_memory=False)"
   ]
  },
  {
   "cell_type": "code",
   "execution_count": 19,
   "outputs": [],
   "source": [
    "df = df[::-1]"
   ],
   "metadata": {
    "collapsed": false,
    "pycharm": {
     "name": "#%%\n"
    }
   }
  },
  {
   "cell_type": "code",
   "execution_count": 21,
   "outputs": [],
   "source": [
    "df[['Date',' Close']].to_excel('xlsx_files/aud_usd.xlsx')"
   ],
   "metadata": {
    "collapsed": false,
    "pycharm": {
     "name": "#%%\n"
    }
   }
  },
  {
   "cell_type": "code",
   "execution_count": 16,
   "outputs": [
    {
     "name": "stdout",
     "output_type": "stream",
     "text": [
      "   Id        Login   Password\n",
      "0   1      JohnDoe  987340123\n",
      "1   2  AnnFranklin  187031122\n"
     ]
    }
   ],
   "source": [
    "import pandas as pd\n",
    "import numpy as np\n",
    "\n",
    "def login_table(id_name_verified, id_password):\n",
    "    id_password = sorted(id_password, key=lambda x: x[0])\n",
    "    id_name_verified.drop('Verified', inplace=True, axis=1)\n",
    "    id_name_verified['Password'] = [password[1] for password in id_password]\n",
    "    pass\n",
    "\n",
    "id_name_verified = pd.DataFrame([[1, \"JohnDoe\", True], [2, \"AnnFranklin\", False]], columns=[\"Id\", \"Login\", \"Verified\"])\n",
    "id_password = np.array([[1, 987340123], [2, 187031122]], np.int32)\n",
    "login_table(id_name_verified, id_password)\n",
    "print(id_name_verified)"
   ],
   "metadata": {
    "collapsed": false,
    "pycharm": {
     "name": "#%%\n"
    }
   }
  }
 ],
 "metadata": {
  "kernelspec": {
   "display_name": "Python 3",
   "language": "python",
   "name": "python3"
  },
  "language_info": {
   "codemirror_mode": {
    "name": "ipython",
    "version": 2
   },
   "file_extension": ".py",
   "mimetype": "text/x-python",
   "name": "python",
   "nbconvert_exporter": "python",
   "pygments_lexer": "ipython2",
   "version": "2.7.6"
  }
 },
 "nbformat": 4,
 "nbformat_minor": 0
}